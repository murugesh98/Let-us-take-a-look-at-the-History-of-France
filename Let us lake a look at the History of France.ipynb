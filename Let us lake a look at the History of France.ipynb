{
 "cells": [
  {
   "cell_type": "markdown",
   "metadata": {},
   "source": [
    "In this notebook, we will be exploring the book \"History of France\" written by Charlotte M. Yonge. The book is freely available in the website https://www.gutenberg.org/. We will first scrape the text data of the interested book from the website. Then, we will process the data to obtain the following insights:\n",
    "\n",
    "01. What is the most frequently used word in the book?\n",
    "02. Can I look at the summary of the book?\n",
    "\n",
    "Let us see!"
   ]
  },
  {
   "cell_type": "code",
   "execution_count": 1,
   "metadata": {},
   "outputs": [],
   "source": [
    "import requests\n",
    "import nltk\n",
    "from bs4 import BeautifulSoup"
   ]
  },
  {
   "cell_type": "markdown",
   "metadata": {},
   "source": [
    "Now let us obtain the required corpus from the webiste by requesting."
   ]
  },
  {
   "cell_type": "code",
   "execution_count": 2,
   "metadata": {},
   "outputs": [
    {
     "name": "stdout",
     "output_type": "stream",
     "text": [
      "﻿The Project Gutenberg EBook of History of France, by Charlotte M. Yonge\r\n",
      "\r\n",
      "This eBook is for the use of anyone anywhere at no cost and with\r\n",
      "almost no restrictions whatsoever.  You may copy it, give it away or\r\n",
      "re-use it under the terms of the Project Gutenberg License included\r\n",
      "with this eBook or online at www.gutenberg.net\r\n",
      "\r\n",
      "\r\n",
      "Title: History of France\r\n",
      "\r\n",
      "Author: Charlotte M. Yonge\r\n",
      "\r\n",
      "Editor: J.R. Green\r\n",
      "\r\n",
      "Release Date: December 12, 2005 [EBook #17287]\r\n",
      "\r\n",
      "Language: English\r\n",
      "\r\n",
      "Character set encoding: UTF-8\r\n",
      "\r\n",
      "*** START OF THIS PROJECT GUTENBERG EBOOK HISTORY OF FRANCE ***\r\n",
      "\r\n",
      "\r\n",
      "\r\n",
      "\r\n",
      "Produced by Marilynda Fraser-Cunliffe, Taavi Kalju and the\r\n",
      "Online Distributed Proofreaders Europe at\r\n",
      "http://dp.rastko.net.\r\n",
      "\r\n",
      "\r\n",
      "\r\n",
      "\r\n",
      "\r\n",
      "History Primers. _Edited by_ J.R. GREEN.\r\n",
      "\r\n",
      "\r\n",
      "\r\n",
      "\r\n",
      "HISTORY OF FRANCE.\r\n",
      "\r\n",
      "BY\r\n",
      "\r\n",
      "CHARLOTTE M. YONGE.\r\n",
      "\r\n",
      "\r\n",
      "NEW YORK:\r\n",
      "D. APPLETON AND COMPANY\r\n",
      "1, 3, AND 5 BOND STREET.\r\n",
      "1882.\r\n",
      "\r\n",
      "\r\n",
      "\r\n",
      "\r\n",
      "CONTENTS.\r\n",
      "\r\n",
      "\r\n",
      "                                     PAGE\r\n",
      "\r\n",
      "CHAPTER I.\r\n",
      "\r\n",
      "THE EARLIER KINGS OF FRANCE             1\r\n",
      "\r\n",
      "\r\n",
      "CHAPTER II.\r\n",
      "\r\n",
      "THE HUNDRED YEARS' WAR                 25\r\n",
      "\r\n",
      "\r\n",
      "CHAPTER III.\r\n",
      "\r\n",
      "THE STRUGGLE WITH BURGUNDY             43\r\n",
      "\r\n",
      "\r\n",
      "CHAPTER IV.\r\n",
      "\r\n",
      "THE ITALIAN WARS                       52\r\n",
      "\r\n",
      "\r\n",
      "CHAPTER V.\r\n",
      "\r\n",
      "THE WARS OF RELIGION                   63\r\n",
      "\r\n",
      "\r\n",
      "CHAPTER VI.\r\n",
      "\r\n",
      "POWER OF THE CROWN                     81\r\n",
      "\r\n",
      "\r\n",
      "CHAPTER VII.\r\n",
      "\r\n",
      "THE REVOLUTION                        102\r\n",
      "\r\n",
      "\r\n",
      "CHAPTER VIII.\r\n",
      "\r\n",
      "FRANCE SINCE THE REVOLUTION           116\r\n",
      "\r\n",
      "\r\n",
      "\r\n",
      "\r\n",
      "[Illustration: MAP OF FRANCE.\r\n",
      "\r\n",
      "_Shewing the Provinces._]\r\n",
      "\r\n",
      "\r\n",
      "[Illustration: MAP OF FRANCE.\r\n",
      "\r\n",
      "_Shewing the Departments._]\r\n",
      "\r\n",
      "\r\n",
      "\r\n",
      "\r\n",
      "FRANCE.\r\n",
      "\r\n",
      "\r\n",
      "\r\n",
      "\r\n",
      "CHAPTER I.\r\n",
      "\r\n",
      "THE EARLIER KINGS OF FRANCE.\r\n",
      "\r\n",
      "\r\n",
      "1. France.--The country we now know as France is the tract of land\r\n",
      "shut in by the British Channel, the Bay of Biscay, the Pyrenees, the\r\n",
      "Mediterranean, and the Alps. But this country only gained the name of\r\n",
      "France by degrees. In the earliest days of which we have any account, it\r\n",
      "was peopled by the Celts, and it was known to the Romans as part of a\r\n",
      "larger country which bore the name of Gaul. After all of it, save the\r\n",
      "north-western moorlands, or what we now call Brittany, had been\r\n",
      "conquered and settled by the Romans, it was overrun by tribes of the\r\n",
      "great Teutonic race, the same family to which Englishmen belong. Of\r\n",
      "these tribes, the Goths settled in the provinces to the south; the\r\n",
      "Burgundians, in the east, around the Jura; while the Franks, coming\r\n",
      "over the rivers in its unprotected north-eastern corner, and making\r\n",
      "themselves masters of a far wider territory, broke up into two\r\n",
      "kingdoms--that of the Eastern Franks in what is now Germany, and that of\r\n",
      "the Western Franks reaching from the Rhine to the Atlantic. These Franks\r\n",
      "subdued all the other Teutonic conquerors of Gaul, while they adopted\r\n",
      "the religion, the language, and some of the civilization of the\r\n",
      "Romanized Gauls who became their subjects. Under the second Frankish\r\n",
      "dynasty, the Empire was renewed in the West, where it had been for a\r\n",
      "time put an end to by these Teutonic invasions, and the then Frankish\r\n",
      "king, Charles the Great, took his place as Emperor at its head. But in\r\n",
      "the time of his grandsons the various kingdoms and nations of which the\r\n",
      "Empire was composed, fell apart again under different descendants of\r\n",
      "his. One of these, _Charles the Bald_, was made King of the Western\r\n",
      "Franks in what was termed the Neustrian, or \"not eastern,\" kingdom, from\r\n",
      "which the present France has sprung. This kingdom in name covered all\r\n",
      "the country west of the Upper Meuse, but practically the Neustrian king\r\n",
      "had little power south of the Loire; and the Celts of Brittany were\r\n",
      "never included in it.\r\n",
      "\r\n",
      "\r\n",
      "2. The House of Paris.--The great danger which this Neustrian kingdom\r\n",
      "had to meet came from the Northmen, or as they were called in England\r\n",
      "the Danes. These ravaged in Neustria as they ravaged in England; and a\r\n",
      "large part of the northern coast, including the mouth of the Seine, was\r\n",
      "given by Charles the Bald to Rolf or Rollo, one of the\n"
     ]
    }
   ],
   "source": [
    "r = requests.get('https://www.gutenberg.org/files/17287/17287-0.txt')\n",
    "r.encoding='utf-8'\n",
    "html=r.text\n",
    "print(html[:4000])"
   ]
  },
  {
   "cell_type": "markdown",
   "metadata": {},
   "source": [
    "Now let us obtain the text by using Beautiful Soup package."
   ]
  },
  {
   "cell_type": "code",
   "execution_count": 3,
   "metadata": {},
   "outputs": [
    {
     "name": "stdout",
     "output_type": "stream",
     "text": [
      "﻿The Project Gutenberg EBook of History of France, by Charlotte M. Yonge\r\n",
      "\r\n",
      "This eBook is for the use of anyone anywhere at no cost and with\r\n",
      "almost no restrictions whatsoever.  You may copy it, give it away or\r\n",
      "re-use it under the terms of the Project Gutenberg License included\r\n",
      "with this eBook or online at www.gutenberg.net\r\n",
      "\r\n",
      "\r\n",
      "Title: History of France\r\n",
      "\r\n",
      "Author: Charlotte M. Yonge\r\n",
      "\r\n",
      "Editor: J.R. Green\r\n",
      "\r\n",
      "Release Date: December 12, 2005 [EBook #17287]\r\n",
      "\r\n",
      "Language: English\r\n",
      "\r\n",
      "Character set encoding: UTF-8\r\n",
      "\r\n",
      "*** START OF THIS PROJECT GUTENBERG EBOOK HISTORY OF FRANCE ***\r\n",
      "\r\n",
      "\r\n",
      "\r\n",
      "\r\n",
      "Produced by Marilynda Fraser-Cunliffe, Taavi Kalju and the\r\n",
      "Online Distributed Proofreaders Europe at\r\n",
      "http://dp.rastko.net.\r\n",
      "\r\n",
      "\r\n",
      "\r\n",
      "\r\n",
      "\r\n",
      "History Primers. _Edited by_ J.R. GREEN.\r\n",
      "\r\n",
      "\r\n",
      "\r\n",
      "\r\n",
      "HISTORY OF FRANCE.\r\n",
      "\r\n",
      "BY\r\n",
      "\r\n",
      "CHARLOTTE M. YONGE.\r\n",
      "\r\n",
      "\r\n",
      "NEW YORK:\r\n",
      "D. APPLETON AND COMPANY\r\n",
      "1, 3, AND 5 BOND STREET.\r\n",
      "1882.\r\n",
      "\r\n",
      "\r\n",
      "\r\n",
      "\r\n",
      "CONTENTS.\r\n",
      "\r\n",
      "\r\n",
      "                                     PAGE\r\n",
      "\r\n",
      "CHAPTER I.\r\n",
      "\r\n",
      "THE EARLIER KINGS OF FRANCE             1\r\n",
      "\r\n",
      "\r\n",
      "CHAPTER II.\r\n",
      "\r\n",
      "THE HUNDRED YEARS' WAR                 25\r\n",
      "\r\n",
      "\r\n",
      "CHAPTER III.\r\n",
      "\r\n",
      "THE STRUGGLE WITH BURGUNDY             43\r\n",
      "\r\n",
      "\r\n",
      "CHAPTER IV.\r\n",
      "\r\n",
      "THE ITALIAN WARS                       52\r\n",
      "\r\n",
      "\r\n",
      "CHAPTER V.\r\n",
      "\r\n",
      "THE WARS OF RELIGION                   63\r\n",
      "\r\n",
      "\r\n",
      "CHAPTER VI.\r\n",
      "\r\n",
      "POWER OF THE CROWN                     81\r\n",
      "\r\n",
      "\r\n",
      "CHAPTER VII.\r\n",
      "\r\n",
      "THE REVOLUTION                        102\r\n",
      "\r\n",
      "\r\n",
      "CHAPTER VIII.\r\n",
      "\r\n",
      "FRANCE SINCE THE REVOLUTION           116\r\n",
      "\r\n",
      "\r\n",
      "\r\n",
      "\r\n",
      "[Illustration: MAP OF FRANCE.\r\n",
      "\r\n",
      "_Shewing the Provinces._]\r\n",
      "\r\n",
      "\r\n",
      "[Illustration: MAP OF FRANCE.\r\n",
      "\r\n",
      "_Shewing the Departments._]\r\n",
      "\r\n",
      "\r\n",
      "\r\n",
      "\r\n",
      "FRANCE.\r\n",
      "\r\n",
      "\r\n",
      "\r\n",
      "\r\n",
      "CHAPTER I.\r\n",
      "\r\n",
      "THE EARLIER KINGS OF FRANCE.\r\n",
      "\r\n",
      "\r\n",
      "1. France.--The country we now know as France is the tract of land\r\n",
      "shut in by the British Channel, the Bay of Biscay, the Pyrenees, the\r\n",
      "Mediterranean, and the Alps. But this country only gained the name of\r\n",
      "France by degrees. In the earliest days of which we have any account, it\r\n",
      "was peopled by the Celts, and it was known to the Romans as part of a\r\n",
      "larger country which bore the name of Gaul. After all of it, save the\r\n",
      "north-western moorlands, or what we now call Brittany, had been\r\n",
      "conquered and settled by the Romans, it was overrun by tribes of the\r\n",
      "great Teutonic race, the same family to which Englishmen belong. Of\r\n",
      "these tribes, the Goths settled in the provinces to the south; the\r\n",
      "Burgundians, in the east, around the Jura; while the Franks, coming\r\n",
      "over the rivers in its unprotected north-eastern corner, and making\r\n",
      "themselves masters of a far wider territory, broke up into two\r\n",
      "kingdoms--that of the Eastern Franks in what is now Germany, and that of\r\n",
      "the Western Franks reaching from the Rhine to the Atlantic. These Franks\r\n",
      "subdued all the other Teutonic conquerors of Gaul, while they adopted\r\n",
      "the religion, the language, and some of the civilization of the\r\n",
      "Romanized Gauls who became their subjects. Under the second Frankish\r\n",
      "dynasty, the Empire was renewed in the West, where it had been for a\r\n",
      "time put a\n"
     ]
    }
   ],
   "source": [
    "soup = BeautifulSoup(html, 'html.parser')\n",
    "text=soup.get_text()\n",
    "print(text[:3000])"
   ]
  },
  {
   "cell_type": "markdown",
   "metadata": {},
   "source": [
    "Now, it is time to tokenize the text for easier text processing. We use nltk package to do tokenizing"
   ]
  },
  {
   "cell_type": "code",
   "execution_count": 7,
   "metadata": {},
   "outputs": [
    {
     "name": "stdout",
     "output_type": "stream",
     "text": [
      "['The', 'Project', 'Gutenberg', 'EBook', 'of', 'History', 'of', 'France', 'by', 'Charlotte']\n"
     ]
    }
   ],
   "source": [
    "tokenizer=nltk.tokenize.RegexpTokenizer('\\w+')\n",
    "\n",
    "tokens=tokenizer.tokenize(text)\n",
    "\n",
    "print(tokens[:10])"
   ]
  },
  {
   "cell_type": "markdown",
   "metadata": {},
   "source": [
    "So, let us avoid repitition of words as this process is case sensitive. We will convert all the words into lower case."
   ]
  },
  {
   "cell_type": "code",
   "execution_count": 8,
   "metadata": {},
   "outputs": [
    {
     "name": "stdout",
     "output_type": "stream",
     "text": [
      "['the', 'project', 'gutenberg', 'ebook', 'of', 'history', 'of', 'france', 'by', 'charlotte']\n"
     ]
    }
   ],
   "source": [
    "words=[]\n",
    "\n",
    "for token in tokens:\n",
    "    words.append(token.lower())\n",
    "    \n",
    "print(words[:10])"
   ]
  },
  {
   "cell_type": "markdown",
   "metadata": {},
   "source": [
    "OK. We can find some of the words are often repaeated but they posses no meaning and value to the context of the text. "
   ]
  },
  {
   "cell_type": "code",
   "execution_count": 10,
   "metadata": {},
   "outputs": [],
   "source": [
    "from nltk.corpus import stopwords\n",
    "stop=stopwords.words('english')"
   ]
  },
  {
   "cell_type": "code",
   "execution_count": 11,
   "metadata": {},
   "outputs": [
    {
     "name": "stdout",
     "output_type": "stream",
     "text": [
      "['project', 'gutenberg', 'ebook', 'history', 'france', 'charlotte', 'yonge', 'ebook', 'use', 'anyone']\n"
     ]
    }
   ],
   "source": [
    "words_clean=[]\n",
    "\n",
    "for word in words:\n",
    "    if word not in stop:\n",
    "        words_clean.append(word)\n",
    "        \n",
    "print(words_clean[:10])"
   ]
  },
  {
   "cell_type": "markdown",
   "metadata": {},
   "source": [
    "Yeah. Finally let us plot the words versus its frequency of its usgae in the corpus."
   ]
  },
  {
   "cell_type": "code",
   "execution_count": 12,
   "metadata": {},
   "outputs": [
    {
     "data": {
      "image/png": "[encoded data removed]",
      "text/plain": [
       "<Figure size 432x288 with 1 Axes>"
      ]
     },
     "metadata": {
      "needs_background": "light"
     },
     "output_type": "display_data"
    }
   ],
   "source": [
    "%matplotlib inline\n",
    "\n",
    "freqdist = nltk.FreqDist(words_clean)\n",
    "\n",
    "freqdist.plot(25)"
   ]
  },
  {
   "cell_type": "markdown",
   "metadata": {},
   "source": [
    "Wow France is used almost 140 times in the book History of France and it is the third most used word in the book."
   ]
  },
  {
   "cell_type": "code",
   "execution_count": null,
   "metadata": {},
   "outputs": [],
   "source": []
  }
 ],
 "metadata": {
  "kernelspec": {
   "display_name": "Python 3",
   "language": "python",
   "name": "python3"
  },
  "language_info": {
   "codemirror_mode": {
    "name": "ipython",
    "version": 3
   },
   "file_extension": ".py",
   "mimetype": "text/x-python",
   "name": "python",
   "nbconvert_exporter": "python",
   "pygments_lexer": "ipython3",
   "version": "3.7.3"
  }
 },
 "nbformat": 4,
 "nbformat_minor": 2
}
